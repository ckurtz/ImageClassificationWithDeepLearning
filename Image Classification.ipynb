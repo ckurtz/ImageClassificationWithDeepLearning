{
 "cells": [
  {
   "cell_type": "markdown",
   "metadata": {},
   "source": [
    "# Convolutionnal Neural Network (CNN) "
   ]
  },
  {
   "cell_type": "markdown",
   "metadata": {},
   "source": [
    "## La classification\n",
    "La classification est un precessus qui prend une entrer (par exemple une image) et qui repond par une decision en sortie (chien, chat ...)ou la probabiltée de chacune des classes considérée.\n",
    "\n",
    "## Les réseaux de neurones convolutionnels (CNN)\n",
    "les CNN sont des réseaux profonds composés de diférentes couches dans le but d'extraire des caractéristiques permettant de différencier entre les classes traité. \n",
    "\n",
    "<img src=\"media/architecture-cnn-fr.png\" width=\"800\">\n",
    "\n",
    "## Types de couche\n",
    "\n",
    "### Couche de convolution\n",
    "Le principe de la convolution est de glisser un masque sur l'ensemble des pixels de l'image et de calculer le produit de convolution pour chacun des pixel couvert par ce masque.\n",
    "<img src=\"media/convolution-layer-a.png\" width=\"500\">\n",
    "*Remarque : l'étape de convolution peut aussi être généralisée dans les cas 1D et 3D.*\n",
    "### Couche de pooling\n",
    "Cette couche a pour but de réduire le spatiale afin de garder que les information pertinantes. En particulier, les types de pooling les plus populaires sont le max et l'average pooling.\n",
    "\n",
    "|   Max Pooling        |   Avreage Pooling   |\n",
    ":-------------------:  |  :-------------------------:\n",
    "|<img src=\"media/max-pooling-a.png\" width=\"300\"> | <img src=\"media/average-pooling-a.png\" width=\"300\">  |"
   ]
  },
  {
   "cell_type": "markdown",
   "metadata": {},
   "source": [
    "# CNN for image classifiction\n",
    "\n",
    "Dans ce TP, le but est d'utiliser l'approntissage profond pour faire une classification d'image. Pour cela, la necessité d'une base de donnée est indispenssable. Alors  nous allons utiliser la base CIFARE10.\n",
    "\n",
    "## CIFARE10\n",
    "\n",
    "Cette basse est composée de 80 millions d'images éttiqueté. Ces images sont collecté par *Alex Krizhevsky*, *Vinod Nair*, et *Geoffrey Hinton.* \n",
    "\n",
    "CIFAR10 est constituée de 10 classes avec 6000 images dans chacune d'elles, amenant à 60 000 images en tous. Cette ensemble d'images est divisé en 2 sous-ensembles : un ensemble pour l'entrînement qui contient 50 000 images et un ensemble pour le test qui contient 10 000 images.\n",
    "\n",
    "Les classes de cette base de donnée sont : \n",
    "\n",
    "* airplane\n",
    "* automobile\n",
    "* bird\n",
    "* cat\n",
    "* deer\n",
    "* dog\n",
    "* frog\n",
    "* horse\n",
    "* ship\n",
    "* truck\n",
    "\n",
    "Les images de cette base sont de talle 3x32x32 ( c'est des image couleur avec 3 bands spectrales) \n",
    "\n",
    "\n",
    "The CIFAR-10 dataset consists of 60000 32x32 colour images in 10 classes, with 6000 images per class. There are 50000 training images and 10000 test images. \n",
    "\n",
    "<img src=\"media/cifar10.png\">\n",
    "\n",
    "## Chargement de la base\n"
   ]
  },
  {
   "cell_type": "code",
   "execution_count": 1,
   "metadata": {},
   "outputs": [],
   "source": [
    "import torch\n",
    "import torchvision\n",
    "import torchvision.transforms as transforms"
   ]
  },
  {
   "cell_type": "code",
   "execution_count": 2,
   "metadata": {},
   "outputs": [
    {
     "name": "stdout",
     "output_type": "stream",
     "text": [
      "Files already downloaded and verified\n",
      "Files already downloaded and verified\n"
     ]
    }
   ],
   "source": [
    "transform = transforms.Compose(\n",
    "    [transforms.ToTensor(),\n",
    "     transforms.Normalize((0.5, 0.5, 0.5), (0.5, 0.5, 0.5))]\n",
    ")\n",
    "\n",
    "\n",
    "##########################################################################\n",
    "#    Chargement/telechargement de la base de TRAIN de CIFARE10           #\n",
    "##########################################################################\n",
    "\n",
    "trainset = torchvision.datasets.CIFAR10(root='./data', train=True, download=True, transform=transform)\n",
    "\n",
    "##########################################################################\n",
    "#    Chargement/telechargement de la base de TEST de CIFARE10            #\n",
    "##########################################################################\n",
    "\n",
    "testset = torchvision.datasets.CIFAR10(root='./data', train=False, download=True, transform=transform)\n",
    "\n",
    "##########################################################################\n",
    "#   Definition du module qui fait parcour les donnees                    #\n",
    "# Paramètres:                                                            #\n",
    "#       - Batchsize : nbr d'images qui passe en une fois                 #\n",
    "#       - Shaffle : Vrai      ---> lors de l'entraînement                #\n",
    "#                   Faux/Vrai ---> lors du test                          #\n",
    "#                                                                        #\n",
    "# * On va creer 2 modules : un pour le TRAIN et un pour le TEST          #\n",
    "##########################################################################\n",
    "\n",
    "trainloader = torch.utils.data.DataLoader(trainset, batch_size=4, shuffle=True, num_workers=2)\n",
    "testloader = torch.utils.data.DataLoader(testset, batch_size=4, shuffle=False, num_workers=2)\n",
    "\n",
    "classes = ['plane', 'car', 'bird', 'cat', 'deer', 'dog', 'frog', 'horse', 'ship', 'truck']"
   ]
  },
  {
   "cell_type": "markdown",
   "metadata": {},
   "source": [
    "### Visualisation de quelque images de l'ensemble d'entraînement"
   ]
  },
  {
   "cell_type": "code",
   "execution_count": 3,
   "metadata": {},
   "outputs": [
    {
     "data": {
      "text/plain": [
       "<Figure size 640x480 with 1 Axes>"
      ]
     },
     "metadata": {},
     "output_type": "display_data"
    },
    {
     "name": "stdout",
     "output_type": "stream",
     "text": [
      "  car   cat horse plane\n"
     ]
    }
   ],
   "source": [
    "import matplotlib.pyplot as plt\n",
    "import numpy as np\n",
    "\n",
    "# functions to show an image\n",
    "\n",
    "\n",
    "def imshow(img):\n",
    "    img = img / 2 + 0.5     # unnormalize\n",
    "    npimg = img.numpy()\n",
    "    ##########################################################################################\n",
    "    #   Il faut transposée les images car PyTorch lis les image en [Chanels, Width, Height]  #\n",
    "    #   et pour les voir il faut qu'elles soient [Width, Height, Chanels]                    #\n",
    "    ##########################################################################################\n",
    "    plt.imshow(np.transpose(npimg, (1, 2, 0))) \n",
    "    plt.show()\n",
    "\n",
    "\n",
    "# get some random training images\n",
    "dataiter = iter(trainloader)\n",
    "images, labels = dataiter.next()\n",
    "\n",
    "# show images\n",
    "imshow(torchvision.utils.make_grid(images))\n",
    "# print labels\n",
    "print(' '.join('%5s' % classes[labels[j]] for j in range(4)))"
   ]
  },
  {
   "cell_type": "markdown",
   "metadata": {},
   "source": [
    "### Création d'un CNN"
   ]
  },
  {
   "cell_type": "code",
   "execution_count": 29,
   "metadata": {},
   "outputs": [
    {
     "name": "stdout",
     "output_type": "stream",
     "text": [
      "Net(\n",
      "  (conv1): Conv2d(3, 6, kernel_size=(5, 5), stride=(1, 1))\n",
      "  (pool): MaxPool2d(kernel_size=2, stride=2, padding=0, dilation=1, ceil_mode=False)\n",
      "  (conv2): Conv2d(6, 16, kernel_size=(5, 5), stride=(1, 1))\n",
      "  (fc1): Linear(in_features=400, out_features=120, bias=True)\n",
      "  (fc2): Linear(in_features=120, out_features=84, bias=True)\n",
      "  (fc3): Linear(in_features=84, out_features=10, bias=True)\n",
      ")\n"
     ]
    }
   ],
   "source": [
    "import torch.nn as nn\n",
    "import torch.nn.functional as F\n",
    "\n",
    "class Net(nn.Module):\n",
    "    def __init__(self):\n",
    "        super(Net, self).__init__()\n",
    "        self.conv1 = nn.Conv2d(in_channels=3, out_channels=6, kernel_size=5)\n",
    "        self.pool = nn.MaxPool2d(kernel_size=2, stride=2)\n",
    "        self.conv2 = nn.Conv2d(in_channels=6, out_channels=16, kernel_size=5)\n",
    "        self.fc1 = nn.Linear(in_features=16 * 5 * 5, out_features=120)\n",
    "        self.fc2 = nn.Linear(in_features=120, out_features=84)\n",
    "        self.fc3 = nn.Linear(in_features=84, out_features=10)\n",
    "\n",
    "    def forward(self, x):\n",
    "        x = self.pool(F.relu(self.conv1(x)))\n",
    "        x = self.pool(F.relu(self.conv2(x)))\n",
    "        x = x.view(-1, 16 * 5 * 5)\n",
    "        x = F.relu(self.fc1(x))\n",
    "        x = F.relu(self.fc2(x))\n",
    "        x = self.fc3(x)\n",
    "        return x\n",
    "\n",
    "\n",
    "net = Net()\n",
    "print(net)"
   ]
  },
  {
   "cell_type": "markdown",
   "metadata": {},
   "source": [
    "### Definition de la fonction Loss et de l'optimizeur\n",
    "\n",
    "Let’s use a Classification Cross-Entropy loss and SGD with momentum."
   ]
  },
  {
   "cell_type": "code",
   "execution_count": 30,
   "metadata": {},
   "outputs": [],
   "source": [
    "import torch.optim as optim\n",
    "\n",
    "criterion = nn.CrossEntropyLoss()\n",
    "optimizer = optim.SGD(net.parameters(), lr=0.001, momentum=0.9)"
   ]
  },
  {
   "cell_type": "markdown",
   "metadata": {},
   "source": [
    "### Entrînement du reseau\n"
   ]
  },
  {
   "cell_type": "code",
   "execution_count": 18,
   "metadata": {},
   "outputs": [
    {
     "name": "stdout",
     "output_type": "stream",
     "text": [
      "Epoch  0 ; train loss =  2.3050655900192263\n",
      "Epoch  1 ; train loss =  2.305065592727661\n",
      "Finished Training and save the model as `modelNN.pth`\n"
     ]
    }
   ],
   "source": [
    "###############################################\n",
    "#   * Fixer les paramètres de l'entrînement   #\n",
    "###############################################\n",
    "  \n",
    "nb_epoch = 2 # Le nombre d'epoch\n",
    "loss_list = [] # liste qui va contenir la valeur du loss a chaque epoch\n",
    "for epoch in range(nb_epoch):  # loop over the dataset multiple times\n",
    "\n",
    "    running_loss = 0.0\n",
    "    nb_data = 0.\n",
    "    for i, data in enumerate(trainloader, 0):\n",
    "        # get the inputs; data is a list of [inputs, labels]\n",
    "        inputs, labels = data\n",
    "\n",
    "        # zero the parameter gradients\n",
    "        optimizer.zero_grad()\n",
    "\n",
    "        # forward + backward + optimize\n",
    "        outputs = net(inputs)              # Forward\n",
    "        loss = criterion(outputs, labels)\n",
    "        loss.backward()                    # Backward\n",
    "        optimizer.step()                   # optimize\n",
    " \n",
    "        # print statistics\n",
    "        running_loss += loss.item()\n",
    "        \n",
    "        nb_data += 1.\n",
    "        \n",
    "    running_loss = running_loss / nb_data\n",
    "    loss_list.append(running_loss)    \n",
    "    print(\"Epoch \", epoch, \"; train loss = \", running_loss) \n",
    "    \n",
    "torch.save({\n",
    "                'nb_epoch': nb_epoch,\n",
    "                'model' : net.state_dict(),\n",
    "                'listLoss': loss_list,\n",
    "            }, \"modelNN.pth\")\n",
    "\n",
    "print('Finished Training and save the model as `modelNN.pth`')"
   ]
  },
  {
   "cell_type": "markdown",
   "metadata": {},
   "source": [
    "### Ploter la courbe du loss"
   ]
  },
  {
   "cell_type": "code",
   "execution_count": 19,
   "metadata": {},
   "outputs": [
    {
     "data": {
      "image/png": "[encoded data removed]",
      "text/plain": [
       "<Figure size 432x288 with 1 Axes>"
      ]
     },
     "metadata": {
      "needs_background": "light"
     },
     "output_type": "display_data"
    }
   ],
   "source": [
    "plt.plot(range(len(loss_list)), loss_list)\n",
    "\n",
    "plt.xlabel(\"Epochs\")\n",
    "plt.ylabel(\"Loss\")\n",
    "\n",
    "plt.show()"
   ]
  },
  {
   "cell_type": "markdown",
   "metadata": {},
   "source": [
    "### Test the network on the test data"
   ]
  },
  {
   "cell_type": "code",
   "execution_count": 21,
   "metadata": {},
   "outputs": [
    {
     "data": {
      "image/png": "[encoded data removed]",
      "text/plain": [
       "<Figure size 432x288 with 1 Axes>"
      ]
     },
     "metadata": {
      "needs_background": "light"
     },
     "output_type": "display_data"
    },
    {
     "name": "stdout",
     "output_type": "stream",
     "text": [
      "GroundTruth:    cat  ship  ship plane\n",
      "Predicted:   frog  frog  frog  frog\n"
     ]
    }
   ],
   "source": [
    "# Charger un batch de l'ensemble de test\n",
    "dataiter = iter(testloader)\n",
    "images, labels = dataiter.next()\n",
    "\n",
    "# Passer le batch dans le reseau\n",
    "outputs = net(images)\n",
    "predicted1 = torch.softmax(outputs.data, 1)\n",
    "\n",
    "_, predicted2 = torch.max(predicted1, 1)\n",
    "\n",
    "\n",
    "# print images\n",
    "imshow(torchvision.utils.make_grid(images))\n",
    "print('GroundTruth: ', ' '.join('%5s' % classes[labels[j]] for j in range(4)))\n",
    "print('Predicted: ', ' '.join('%5s' % classes[predicted2[j]] for j in range(4)))"
   ]
  },
  {
   "cell_type": "markdown",
   "metadata": {},
   "source": [
    "## Evaluation du model\n",
    "\n",
    "### Taux de reconnaissance globale"
   ]
  },
  {
   "cell_type": "code",
   "execution_count": 23,
   "metadata": {},
   "outputs": [
    {
     "name": "stdout",
     "output_type": "stream",
     "text": [
      "Accuracy of the network on the 10000 test images: 10.000000 %\n"
     ]
    }
   ],
   "source": [
    "correct = 0.\n",
    "total = 0.\n",
    "with torch.no_grad():\n",
    "    for data in testloader:\n",
    "        images, labels = data\n",
    "        outputs = net(images)\n",
    "        _, predicted = torch.max(outputs.data, 1)\n",
    "        total += labels.size(0)\n",
    "        correct += (predicted == labels).sum().item()\n",
    "\n",
    "print('Accuracy of the network on the 10000 test images: %f %%' % ( 100. * correct / total))"
   ]
  },
  {
   "cell_type": "markdown",
   "metadata": {},
   "source": [
    "### Taux de reconnaissance de chacune des classes"
   ]
  },
  {
   "cell_type": "code",
   "execution_count": 24,
   "metadata": {},
   "outputs": [
    {
     "name": "stdout",
     "output_type": "stream",
     "text": [
      "Accuracy of plane : 0.000000 %\n",
      "Accuracy of   car : 0.000000 %\n",
      "Accuracy of  bird : 0.000000 %\n",
      "Accuracy of   cat : 0.000000 %\n",
      "Accuracy of  deer : 0.000000 %\n",
      "Accuracy of   dog : 0.000000 %\n",
      "Accuracy of  frog : 100.000000 %\n",
      "Accuracy of horse : 0.000000 %\n",
      "Accuracy of  ship : 0.000000 %\n",
      "Accuracy of truck : 0.000000 %\n"
     ]
    }
   ],
   "source": [
    "class_correct = list(0. for i in range(10))\n",
    "class_total = list(0. for i in range(10))\n",
    "with torch.no_grad():\n",
    "    for data in testloader:\n",
    "        images, labels = data\n",
    "        outputs = net(images)\n",
    "        _, predicted = torch.max(outputs, 1)\n",
    "        c = (predicted == labels).squeeze()\n",
    "        for i in range(4):\n",
    "            label = labels[i]\n",
    "            class_correct[label] += c[i].item()\n",
    "            class_total[label] += 1\n",
    "\n",
    "\n",
    "for i in range(10):\n",
    "    print('Accuracy of %5s : %f %%' % (classes[i], 100. * class_correct[i] / class_total[i]))"
   ]
  },
  {
   "cell_type": "code",
   "execution_count": null,
   "metadata": {},
   "outputs": [],
   "source": []
  }
 ],
 "metadata": {
  "kernelspec": {
   "display_name": "Python 3",
   "language": "python",
   "name": "python3"
  },
  "language_info": {
   "codemirror_mode": {
    "name": "ipython",
    "version": 3
   },
   "file_extension": ".py",
   "mimetype": "text/x-python",
   "name": "python",
   "nbconvert_exporter": "python",
   "pygments_lexer": "ipython3",
   "version": "3.7.3"
  }
 },
 "nbformat": 4,
 "nbformat_minor": 2
}
